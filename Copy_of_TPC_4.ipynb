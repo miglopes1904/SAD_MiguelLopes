{
  "nbformat": 4,
  "nbformat_minor": 0,
  "metadata": {
    "colab": {
      "name": "Copy of TPC_4.ipynb",
      "version": "0.3.2",
      "provenance": [],
      "collapsed_sections": []
    },
    "kernelspec": {
      "display_name": "SADenv",
      "language": "python",
      "name": "sadenv"
    }
  },
  "cells": [
    {
      "metadata": {
        "id": "hhce8eme78wL",
        "colab_type": "text"
      },
      "cell_type": "markdown",
      "source": [
        "# SAD - TPC 4\n",
        "\n",
        "### Aplicar Algoritmos\n",
        "\n",
        "----\n",
        "\n",
        "\n",
        "- Usando sklearn correr os métodos Decision Tree, Random Forrest e Naive Bayes para o dataset Digits, definido em baixo;\n",
        "\n",
        "- Usar o training set para executar o treino do modelo;\n",
        "\n",
        "- Comparar o erro obtido em cada método, para o testset e para o training set e expecificar se os valores são os esperados;\n",
        "\n",
        "- Para um dos algoritmos, dar exemplos do test set de instâncias mal bem classificadas (2 de cada);\n",
        "\n",
        "O DataSet de dígitos pode ser carregado assim:"
      ]
    },
    {
      "metadata": {
        "colab_type": "code",
        "outputId": "8dc4885d-6904-4c1b-a13a-9543aa0a4f7e",
        "id": "150__YcEEWRn",
        "colab": {
          "base_uri": "https://localhost:8080/",
          "height": 858
        }
      },
      "cell_type": "code",
      "source": [
        "#Decision Tree\n",
        "# Import datasets, classifiers and performance metrics\n",
        "from sklearn import datasets, tree, model_selection\n",
        "\n",
        "import pandas as pd\n",
        "import numpy as np\n",
        "import matplotlib.pyplot as plt\n",
        "\n",
        "\n",
        "\n",
        "# The digits dataset\n",
        "digits = datasets.load_digits()\n",
        "\n",
        "\n",
        "[features_train, features_test, classes_train, classes_test] = model_selection.train_test_split(digits.data, digits.target, test_size=0.30)\n",
        "model = tree.DecisionTreeClassifier()\n",
        "\n",
        "clf = model.fit(features_train, classes_train)\n",
        "\n",
        "score_train = model.score(features_train, classes_train)\n",
        "score_test = model.score(features_test, classes_test)\n",
        "\n",
        "print(\"Features:\", digits.target_names)\n",
        "print(\"score_train:\", score_train)\n",
        "print(\"score_test:\", score_test)\n",
        "print(\"\")\n",
        "\n",
        "\n",
        "print(\"Resultados mal classificados:\")\n",
        "res = model.predict(features_test)\n",
        "err_features=features_test[res!=classes_test,:][:2]\n",
        "print(\"actual: \",classes_test[res!=classes_test])\n",
        "print(\"predict:\",res[res!=classes_test])\n",
        "\n",
        "#Wrong ones\n",
        "plt.figure()\n",
        "for i,feat in enumerate(err_features):\n",
        "    plt.subplot(1, 2, i+1)    \n",
        "    plt.imshow(feat.reshape(8,8), cmap='gray')\n",
        "\n",
        "plt.show()\n",
        "print(\"\")\n",
        "\n",
        "\n",
        "ok_features=features_test[res==classes_test,:][:2]\n",
        "#Some rights\n",
        "print(\"Resultados bem classificados:\")\n",
        "print(\"actual: \",classes_test[res!=classes_test])\n",
        "print(\"predict:\",res[res!=classes_test])\n",
        "plt.figure()\n",
        "for i,feat in enumerate(ok_features):\n",
        "    plt.subplot(1, 2, i+1)    \n",
        "    plt.imshow(feat.reshape(8,8), cmap='gray')\n",
        "\n"
      ],
      "execution_count": 0,
      "outputs": [
        {
          "output_type": "stream",
          "text": [
            "('Features:', array([0, 1, 2, 3, 4, 5, 6, 7, 8, 9]))\n",
            "('score_train:', 1.0)\n",
            "('score_test:', 0.837037037037037)\n",
            "\n",
            "Resultados mal classificados:\n",
            "('actual: ', array([9, 8, 7, 3, 2, 0, 8, 2, 3, 6, 2, 6, 3, 1, 2, 4, 1, 6, 4, 4, 8, 9,\n",
            "       1, 3, 8, 8, 1, 9, 9, 8, 8, 9, 9, 1, 8, 8, 0, 4, 4, 3, 8, 5, 7, 3,\n",
            "       9, 8, 6, 1, 6, 2, 5, 3, 1, 2, 1, 8, 3, 9, 1, 3, 8, 5, 4, 3, 2, 4,\n",
            "       6, 7, 3, 9, 7, 9, 7, 7, 4, 8, 1, 6, 7, 8, 9, 3, 9, 1, 6, 7, 4, 5]))\n",
            "('predict:', array([3, 1, 8, 4, 8, 4, 4, 7, 9, 0, 1, 0, 5, 8, 5, 1, 3, 5, 7, 7, 2, 3,\n",
            "       4, 2, 5, 1, 3, 3, 2, 7, 3, 3, 3, 5, 0, 9, 4, 9, 0, 1, 1, 8, 8, 9,\n",
            "       7, 7, 4, 2, 0, 7, 6, 7, 8, 3, 9, 2, 2, 5, 5, 5, 9, 1, 7, 4, 1, 5,\n",
            "       4, 8, 9, 8, 1, 3, 5, 9, 7, 3, 9, 4, 9, 3, 3, 7, 5, 7, 3, 1, 1, 4]))\n"
          ],
          "name": "stdout"
        },
        {
          "output_type": "display_data",
          "data": {
            "image/png": "[encoded data removed]",
            "text/plain": [
              "<matplotlib.figure.Figure at 0x7f6a7effb310>"
            ]
          },
          "metadata": {
            "tags": []
          }
        },
        {
          "output_type": "stream",
          "text": [
            "\n",
            "Resultados bem classificados:\n",
            "('actual: ', array([9, 8, 7, 3, 2, 0, 8, 2, 3, 6, 2, 6, 3, 1, 2, 4, 1, 6, 4, 4, 8, 9,\n",
            "       1, 3, 8, 8, 1, 9, 9, 8, 8, 9, 9, 1, 8, 8, 0, 4, 4, 3, 8, 5, 7, 3,\n",
            "       9, 8, 6, 1, 6, 2, 5, 3, 1, 2, 1, 8, 3, 9, 1, 3, 8, 5, 4, 3, 2, 4,\n",
            "       6, 7, 3, 9, 7, 9, 7, 7, 4, 8, 1, 6, 7, 8, 9, 3, 9, 1, 6, 7, 4, 5]))\n",
            "('predict:', array([3, 1, 8, 4, 8, 4, 4, 7, 9, 0, 1, 0, 5, 8, 5, 1, 3, 5, 7, 7, 2, 3,\n",
            "       4, 2, 5, 1, 3, 3, 2, 7, 3, 3, 3, 5, 0, 9, 4, 9, 0, 1, 1, 8, 8, 9,\n",
            "       7, 7, 4, 2, 0, 7, 6, 7, 8, 3, 9, 2, 2, 5, 5, 5, 9, 1, 7, 4, 1, 5,\n",
            "       4, 8, 9, 8, 1, 3, 5, 9, 7, 3, 9, 4, 9, 3, 3, 7, 5, 7, 3, 1, 1, 4]))\n"
          ],
          "name": "stdout"
        },
        {
          "output_type": "display_data",
          "data": {
            "image/png": "[encoded data removed]",
            "text/plain": [
              "<matplotlib.figure.Figure at 0x7f6a7b8e9e10>"
            ]
          },
          "metadata": {
            "tags": []
          }
        }
      ]
    },
    {
      "metadata": {
        "id": "W3lmbAK6MYyC",
        "colab_type": "code",
        "outputId": "463650b9-c8e2-4236-947d-44e4144f08d3",
        "colab": {
          "base_uri": "https://localhost:8080/",
          "height": 50
        }
      },
      "cell_type": "code",
      "source": [
        "#Radom Forrest\n",
        "# Import datasets, classifiers and performance metrics\n",
        "import numpy as np\n",
        "import matplotlib.pyplot as plt\n",
        "from matplotlib.colors import ListedColormap\n",
        "from sklearn.ensemble import RandomForestClassifier\n",
        "from sklearn import datasets\n",
        "\n",
        "\n",
        "# The digits dataset\n",
        "digits = datasets.load_digits()\n",
        "\n",
        "[features_train, features_test, classes_train, classes_test] = model_selection.train_test_split(digits.data, digits.target, test_size=0.30)\n",
        "model = RandomForestClassifier(n_estimators=1000)\n",
        "\n",
        "clf = model.fit(features_train, classes_train)\n",
        "\n",
        "score_train = model.score(features_train, classes_train)\n",
        "score_test = model.score(features_test, classes_test)\n",
        "\n",
        "print(\"score_train:\", score_train)\n",
        "print(\"score_test:\", score_test)\n",
        "\n",
        "\n"
      ],
      "execution_count": 0,
      "outputs": [
        {
          "output_type": "stream",
          "text": [
            "('score_train:', 1.0)\n",
            "('score_test:', 0.9666666666666667)\n"
          ],
          "name": "stdout"
        }
      ]
    },
    {
      "metadata": {
        "id": "uA1tpnJeMaSA",
        "colab_type": "code",
        "outputId": "598cfe33-836e-486b-8213-19feff694f90",
        "colab": {
          "base_uri": "https://localhost:8080/",
          "height": 50
        }
      },
      "cell_type": "code",
      "source": [
        "#Naive Bayes\n",
        "# Import datasets, classifiers and performance metrics\n",
        "from sklearn import datasets\n",
        "from sklearn import datasets, tree, model_selection\n",
        "from sklearn.naive_bayes import GaussianNB\n",
        "gnb = GaussianNB()\n",
        "\n",
        "\n",
        "# The digits dataset\n",
        "digits = datasets.load_digits()\n",
        "\n",
        "[features_train, features_test, classes_train, classes_test] = model_selection.train_test_split(digits.data, digits.target, test_size=0.30)\n",
        "y_pred = gnb.fit(features_train, classes_train)\n",
        "\n",
        "score_train = gnb.score(features_train, classes_train)\n",
        "score_test = gnb.score(features_test, classes_test)\n",
        "\n",
        "print(\"score_train:\", score_train)\n",
        "print(\"score_test:\", score_test)"
      ],
      "execution_count": 0,
      "outputs": [
        {
          "output_type": "stream",
          "text": [
            "('score_train:', 0.8607796340493238)\n",
            "('score_test:', 0.8407407407407408)\n"
          ],
          "name": "stdout"
        }
      ]
    },
    {
      "metadata": {
        "id": "_AjMYPZFTz_a",
        "colab_type": "text"
      },
      "cell_type": "markdown",
      "source": [
        "De acordo com os resultados, pode-se concluir que o método Radom Forrest corresponde aquele que obtêm um score test mais alto, ou seja, mais preciso "
      ]
    }
  ]
}